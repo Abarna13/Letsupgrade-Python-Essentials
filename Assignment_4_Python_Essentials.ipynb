{
  "nbformat": 4,
  "nbformat_minor": 0,
  "metadata": {
    "colab": {
      "name": "Assignment-4 Python Essentials.ipynb",
      "provenance": [],
      "collapsed_sections": []
    },
    "kernelspec": {
      "name": "python3",
      "display_name": "Python 3"
    }
  },
  "cells": [
    {
      "cell_type": "markdown",
      "metadata": {
        "id": "XHmi5Z43KCOz",
        "colab_type": "text"
      },
      "source": [
        "**bold text**"
      ]
    },
    {
      "cell_type": "markdown",
      "metadata": {
        "id": "JRPh0PnUKAmO",
        "colab_type": "text"
      },
      "source": [
        "PYTHON ESSENTIALS ASSIGNMENT-4"
      ]
    },
    {
      "cell_type": "markdown",
      "metadata": {
        "id": "4vD-_YP0KeKO",
        "colab_type": "text"
      },
      "source": [
        "1.Find all occurence of substring in the given string\n",
        "\"what we think we become; we are Python programmer\"\n",
        "Print index values "
      ]
    },
    {
      "cell_type": "code",
      "metadata": {
        "id": "j_7gZSudK0vo",
        "colab_type": "code",
        "colab": {
          "base_uri": "https://localhost:8080/",
          "height": 68
        },
        "outputId": "1fa2fa8a-4e6c-4959-85bc-02041a9a736e"
      },
      "source": [
        "str1 = \"what we think we become; we are Python programmer\"\n",
        "print(str1.count(\"we\"))\n",
        "print(str1.count(\"we\",0,15))\n",
        "print(str1.count(\"a\"))"
      ],
      "execution_count": 2,
      "outputs": [
        {
          "output_type": "stream",
          "text": [
            "3\n",
            "1\n",
            "3\n"
          ],
          "name": "stdout"
        }
      ]
    },
    {
      "cell_type": "markdown",
      "metadata": {
        "id": "1k5qCJSaLq2Y",
        "colab_type": "text"
      },
      "source": [
        "2. With different kind of strings\n",
        "     islower()  and  Isupper()"
      ]
    },
    {
      "cell_type": "code",
      "metadata": {
        "id": "m6UTGbmPL_uI",
        "colab_type": "code",
        "colab": {
          "base_uri": "https://localhost:8080/",
          "height": 34
        },
        "outputId": "1632a337-3e42-4c9a-fb4a-39aa143806e5"
      },
      "source": [
        "string = \"BROWSER\"\n",
        "print(string.isupper())"
      ],
      "execution_count": 8,
      "outputs": [
        {
          "output_type": "stream",
          "text": [
            "True\n"
          ],
          "name": "stdout"
        }
      ]
    },
    {
      "cell_type": "code",
      "metadata": {
        "id": "fCWme3gYMYSv",
        "colab_type": "code",
        "colab": {
          "base_uri": "https://localhost:8080/",
          "height": 34
        },
        "outputId": "a7cea117-d00a-4bad-dd61-863259c24b0a"
      },
      "source": [
        "string = \"GeeksForGeeks\"\n",
        "print(string.isupper())"
      ],
      "execution_count": 9,
      "outputs": [
        {
          "output_type": "stream",
          "text": [
            "False\n"
          ],
          "name": "stdout"
        }
      ]
    },
    {
      "cell_type": "code",
      "metadata": {
        "id": "ZneJV3YsNrUV",
        "colab_type": "code",
        "colab": {
          "base_uri": "https://localhost:8080/",
          "height": 34
        },
        "outputId": "e599be68-471f-4356-d501-277c7fdefc07"
      },
      "source": [
        "string = \"ANDROID\"\n",
        "print(string.islower())"
      ],
      "execution_count": 10,
      "outputs": [
        {
          "output_type": "stream",
          "text": [
            "False\n"
          ],
          "name": "stdout"
        }
      ]
    },
    {
      "cell_type": "code",
      "metadata": {
        "id": "-XN5uaHnN_ht",
        "colab_type": "code",
        "colab": {
          "base_uri": "https://localhost:8080/",
          "height": 34
        },
        "outputId": "604c40d3-1783-4d1f-95f4-a4b52d198726"
      },
      "source": [
        "string = \"github\"\n",
        "print(string.islower())"
      ],
      "execution_count": 11,
      "outputs": [
        {
          "output_type": "stream",
          "text": [
            "True\n"
          ],
          "name": "stdout"
        }
      ]
    },
    {
      "cell_type": "code",
      "metadata": {
        "id": "2hnvVJiUOLst",
        "colab_type": "code",
        "colab": {}
      },
      "source": [
        ""
      ],
      "execution_count": null,
      "outputs": []
    }
  ]
}