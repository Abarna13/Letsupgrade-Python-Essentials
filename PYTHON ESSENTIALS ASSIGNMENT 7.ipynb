{
 "cells": [
  {
   "cell_type": "markdown",
   "metadata": {},
   "source": [
    "#                  DAY-7 ASSIGNMENT"
   ]
  },
  {
   "cell_type": "markdown",
   "metadata": {},
   "source": [
    "Assignment-1"
   ]
  },
  {
   "cell_type": "markdown",
   "metadata": {},
   "source": [
    "1.For this challenge you need to develop a Python program to open a file in read only mode and try writing something to it and handle the subsequent errors using exception handling."
   ]
  },
  {
   "cell_type": "code",
   "execution_count": 5,
   "metadata": {},
   "outputs": [
    {
     "name": "stdout",
     "output_type": "stream",
     "text": [
      "Enter file name:file.txt\n",
      "\n",
      "Program run without any problem\n",
      "It executes the program\n"
     ]
    }
   ],
   "source": [
    "import os\n",
    "\n",
    "filename = input(\"Enter file name:\")\n",
    "\n",
    "try:\n",
    "    f = open(filename, \"r\")\n",
    "    \n",
    "    for line in f:\n",
    "        print(python,end=\"\")\n",
    "        \n",
    "    f.close()\n",
    "    \n",
    "except FileNotFoundError:\n",
    "    print(\"File not found\")\n",
    "    \n",
    "except PermissionError:\n",
    "    print(\"Without any permission you can't read the file\")\n",
    "    \n",
    "except FileExistError:\n",
    "    print(\"you don't have permission to read the file\")\n",
    "    \n",
    "except:\n",
    "    print(\"Unexpected error while reading the file\")\n",
    "    \n",
    "else:\n",
    "    print(\"\\nProgram run without any problem\")\n",
    "    \n",
    "finally:\n",
    "    print(\"It executes the program\")\n",
    "    \n",
    "    \n",
    "    \n",
    "    "
   ]
  },
  {
   "cell_type": "markdown",
   "metadata": {},
   "source": [
    "ASSIGNMENT-2"
   ]
  },
  {
   "cell_type": "markdown",
   "metadata": {},
   "source": [
    "2.Write a python function for finding is a given number prime or not and do unit Testing on it using Pylint & Unittest Library."
   ]
  },
  {
   "cell_type": "code",
   "execution_count": 7,
   "metadata": {},
   "outputs": [
    {
     "name": "stdout",
     "output_type": "stream",
     "text": [
      "Requirement already satisfied: pylint in c:\\users\\elcot\\anaconda3\\lib\\site-packages (2.4.4)\n",
      "Requirement already satisfied: isort<5,>=4.2.5 in c:\\users\\elcot\\anaconda3\\lib\\site-packages (from pylint) (4.3.21)\n",
      "Requirement already satisfied: colorama; sys_platform == \"win32\" in c:\\users\\elcot\\anaconda3\\lib\\site-packages (from pylint) (0.4.3)\n",
      "Requirement already satisfied: mccabe<0.7,>=0.6 in c:\\users\\elcot\\anaconda3\\lib\\site-packages (from pylint) (0.6.1)\n",
      "Requirement already satisfied: astroid<2.4,>=2.3.0 in c:\\users\\elcot\\anaconda3\\lib\\site-packages (from pylint) (2.3.3)\n",
      "Requirement already satisfied: six~=1.12 in c:\\users\\elcot\\anaconda3\\lib\\site-packages (from astroid<2.4,>=2.3.0->pylint) (1.14.0)\n",
      "Requirement already satisfied: typed-ast<1.5,>=1.4.0; implementation_name == \"cpython\" and python_version < \"3.8\" in c:\\users\\elcot\\anaconda3\\lib\\site-packages (from astroid<2.4,>=2.3.0->pylint) (1.4.1)\n",
      "Requirement already satisfied: wrapt==1.11.* in c:\\users\\elcot\\anaconda3\\lib\\site-packages (from astroid<2.4,>=2.3.0->pylint) (1.11.2)\n",
      "Requirement already satisfied: lazy-object-proxy==1.4.* in c:\\users\\elcot\\anaconda3\\lib\\site-packages (from astroid<2.4,>=2.3.0->pylint) (1.4.3)\n"
     ]
    }
   ],
   "source": [
    "!pip install pylint"
   ]
  },
  {
   "cell_type": "code",
   "execution_count": 8,
   "metadata": {},
   "outputs": [
    {
     "name": "stdout",
     "output_type": "stream",
     "text": [
      "Writing treebox.py\n"
     ]
    }
   ],
   "source": [
    "%%writefile treebox.py\n",
    "'''\n",
    "A Simple Python program for our testing purpose the number is prime or not\n",
    "'''\n",
    "\n",
    "def isPrime(n): \n",
    "    if n <= 1: \n",
    "        return False\n",
    "    for i in range(2, n): \n",
    "        if n % i == 0: \n",
    "            return False; \n",
    "        return True\n",
    "\n",
    "\n",
    "print(\"true\") if isPrime(11) else print(\"false\") \n",
    "print(\"true\") if isPrime(14) else print(\"false\") \n",
    "\n",
    "\n"
   ]
  },
  {
   "cell_type": "code",
   "execution_count": 9,
   "metadata": {},
   "outputs": [
    {
     "name": "stdout",
     "output_type": "stream",
     "text": [
      "************* Module treebox\n",
      "treebox.py:5:15: C0303: Trailing whitespace (trailing-whitespace)\n",
      "treebox.py:6:14: C0303: Trailing whitespace (trailing-whitespace)\n",
      "treebox.py:8:25: C0303: Trailing whitespace (trailing-whitespace)\n",
      "treebox.py:9:22: C0303: Trailing whitespace (trailing-whitespace)\n",
      "treebox.py:10:25: C0303: Trailing whitespace (trailing-whitespace)\n",
      "treebox.py:10:0: W0301: Unnecessary semicolon (unnecessary-semicolon)\n",
      "treebox.py:14:48: C0303: Trailing whitespace (trailing-whitespace)\n",
      "treebox.py:15:48: C0303: Trailing whitespace (trailing-whitespace)\n",
      "treebox.py:17:0: C0305: Trailing newlines (trailing-newlines)\n",
      "treebox.py:5:0: C0103: Function name \"isPrime\" doesn't conform to snake_case naming style (invalid-name)\n",
      "treebox.py:5:0: C0103: Argument name \"n\" doesn't conform to snake_case naming style (invalid-name)\n",
      "treebox.py:5:0: C0116: Missing function or method docstring (missing-function-docstring)\n",
      "treebox.py:14:0: W0106: Expression \"print('true') if isPrime(11) else print('false')\" is assigned to nothing (expression-not-assigned)\n",
      "treebox.py:15:0: W0106: Expression \"print('true') if isPrime(14) else print('false')\" is assigned to nothing (expression-not-assigned)\n",
      "\n",
      "------------------------------------\n",
      "\n",
      "Your code has been rated at -5.56/10\n",
      "\n",
      "\n",
      "\n"
     ]
    }
   ],
   "source": [
    "! Pylint treebox.py"
   ]
  },
  {
   "cell_type": "code",
   "execution_count": 11,
   "metadata": {},
   "outputs": [
    {
     "name": "stdout",
     "output_type": "stream",
     "text": [
      "************* Module mycode.py\n",
      "mycode.py:1:0: F0001: No module named mycode.py (fatal)\n"
     ]
    }
   ],
   "source": [
    "! Pylint mycode.py"
   ]
  },
  {
   "cell_type": "code",
   "execution_count": null,
   "metadata": {},
   "outputs": [],
   "source": []
  },
  {
   "cell_type": "code",
   "execution_count": null,
   "metadata": {},
   "outputs": [],
   "source": []
  }
 ],
 "metadata": {
  "kernelspec": {
   "display_name": "Python 3",
   "language": "python",
   "name": "python3"
  },
  "language_info": {
   "codemirror_mode": {
    "name": "ipython",
    "version": 3
   },
   "file_extension": ".py",
   "mimetype": "text/x-python",
   "name": "python",
   "nbconvert_exporter": "python",
   "pygments_lexer": "ipython3",
   "version": "3.7.6"
  }
 },
 "nbformat": 4,
 "nbformat_minor": 4
}
