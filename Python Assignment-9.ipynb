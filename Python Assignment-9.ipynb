{
 "cells": [
  {
   "cell_type": "markdown",
   "metadata": {},
   "source": [
    "#                              DAY-6 ASSIGNMENT"
   ]
  },
  {
   "cell_type": "markdown",
   "metadata": {},
   "source": [
    "ASSIGNMENT-1"
   ]
  },
  {
   "cell_type": "markdown",
   "metadata": {},
   "source": [
    "1.For this challenge create a bank account class that has two attributes.\n",
    "                \n",
    "                * Owner name\n",
    "                * Balance\n",
    "                \n",
    "            Methods:\n",
    "            \n",
    "                * Deposit\n",
    "                * Withdraw\n",
    "                \n",
    "      # As an added requirements withdrawls may not exceed the available balance.\n",
    "      \n",
    "      # Instantiate your class,make several deposits and withdrawals and test to make sure the account can't be withdrawn.\n",
    "       \n",
    "       "
   ]
  },
  {
   "cell_type": "code",
   "execution_count": 8,
   "metadata": {},
   "outputs": [
    {
     "name": "stdout",
     "output_type": "stream",
     "text": [
      "BankAccount owner: Abi\n",
      "Account balance: 70000\n",
      "Deposit Accepted, your balance is 70050\n",
      "Withdrawal Accepted, your balance is 69975\n",
      "Withdrawal Accepted, your balance is 69475\n"
     ]
    }
   ],
   "source": [
    "class BankAccount:\n",
    "    \n",
    "    def __init__(self, owner, balance):\n",
    "        self.owner = owner\n",
    "        self.balance = balance\n",
    "    \n",
    "    def __str__(self):\n",
    "        return 'BankAccount owner: {owner}\\nAccount balance: {balance}'.format(owner=self.owner,balance=self.balance)\n",
    "\n",
    "        \n",
    "    def deposit(self, dp_money):\n",
    "        self.balance += dp_money\n",
    "        print('Deposit Accepted, your balance is {balance}'.format(balance=self.balance))\n",
    "    \n",
    "    def withdraw(self, wd_money):\n",
    "        if wd_money > self.balance:\n",
    "            print('Funds Unavailable!')\n",
    "        else:\n",
    "            self.balance -= wd_money\n",
    "            print('Withdrawal Accepted, your balance is {balance}'.format(balance=self.balance))\n",
    "            \n",
    "acct1 = BankAccount('Abi',70000)\n",
    "print(acct1)\n",
    "\n",
    "acct1.deposit(50)\n",
    "acct1.withdraw(75)\n",
    "acct1.withdraw(500)"
   ]
  },
  {
   "cell_type": "markdown",
   "metadata": {},
   "source": [
    "ASSIGNMENT-2"
   ]
  },
  {
   "cell_type": "markdown",
   "metadata": {},
   "source": [
    "For this Challenge,create a cone class that has two attributes.\n",
    "\n",
    "                 * R = Radius\n",
    "                 * h = height\n",
    "                 \n",
    "                 Methods:\n",
    "                 \n",
    "                 * Volume = π * r^2 * (h/3)\n",
    "                 * Surface Area : Base = π * r^2, Side = π * r * √(r^2 + h^2)\n",
    " \n",
    "          Make only one class with functions,as in where required import math.\n"
   ]
  },
  {
   "cell_type": "code",
   "execution_count": 22,
   "metadata": {},
   "outputs": [
    {
     "name": "stdout",
     "output_type": "stream",
     "text": [
      "Volume Of Cone :  804.247719318987\n",
      "Surface Area Of Cone :  527.7875658030853\n"
     ]
    }
   ],
   "source": [
    "import math \n",
    "pi = math.pi \n",
    "\n",
    " \n",
    "def volume(r, h): \n",
    "    return pi * r * r * (h/3)\n",
    "\n",
    "\n",
    "def surfacearea(r, s): \n",
    "    return pi * r * s + pi * r * r \n",
    "\n",
    " \n",
    "radius = float(8) \n",
    "height = float(12) \n",
    "slat_height = float(13) \n",
    "print( \"Volume Of Cone : \", volume(radius, height) ) \n",
    "print( \"Surface Area Of Cone : \", surfacearea(radius, slat_height) ) \n"
   ]
  },
  {
   "cell_type": "code",
   "execution_count": null,
   "metadata": {},
   "outputs": [],
   "source": []
  },
  {
   "cell_type": "code",
   "execution_count": null,
   "metadata": {},
   "outputs": [],
   "source": []
  }
 ],
 "metadata": {
  "kernelspec": {
   "display_name": "Python 3",
   "language": "python",
   "name": "python3"
  },
  "language_info": {
   "codemirror_mode": {
    "name": "ipython",
    "version": 3
   },
   "file_extension": ".py",
   "mimetype": "text/x-python",
   "name": "python",
   "nbconvert_exporter": "python",
   "pygments_lexer": "ipython3",
   "version": "3.7.6"
  }
 },
 "nbformat": 4,
 "nbformat_minor": 4
}
