{
 "cells": [
  {
   "cell_type": "markdown",
   "metadata": {},
   "source": [
    "# PYTHON ESSENTIALS ASSIGNMENT-1"
   ]
  },
  {
   "cell_type": "markdown",
   "metadata": {},
   "source": [
    "1.What is Python ? What are the ways to install python in your PC? "
   ]
  },
  {
   "cell_type": "markdown",
   "metadata": {},
   "source": [
    "* Python is a popular programming language.\n",
    "* It was created by Guido van Rossum, and released in 1991.\n",
    "* It is used for ,\n",
    "    1 . Web development\n",
    "    2 . Software development\n",
    "    3 . Mathematics\n",
    "    4 . System Scripting\n",
    "    \n",
    " * Python can be used on a server to create web applications.\n",
    " * Python can be used alongside software to create workflows.\n",
    " * Python can be used for rapid prototyping, or for production-ready software development.\n",
    " * Python works on different platforms (Windows, Mac, Linux, Raspberry Pi, etc).\n",
    " * Python runs on an interpreter system, meaning that code can be executed as soon as it is written. This means that              prototyping can be very quick.\n",
    "\n",
    "\n",
    "WAYS TO INSTALL PYTHON IN PC\n",
    "\n",
    "\n",
    "  * Click Python Download.\n",
    "  * Click the Windows link (two lines below the Download Python 3.7.4 button).\n",
    "  * Click on the Download Windows x86-64 executable installer link under the top-left Stable Releases.\n",
    "    The pop-up window titled Opening python-3.74-amd64.exe will appear.\n",
    "    \n",
    "  * Click the Save File button.\n",
    "  * The file named python-3.7.4-amd64.exe should start downloading into your standard download folder. This file is about 30 Mb so it might take a while to download fully if you are on a slow internet connection (it took me about 10 seconds over a cable modem).\n",
    "  * The file should appear as\n",
    "  python-3.7.4-amd64.exe\n",
    "  \n",
    "  * Move this file to a more permanent location, so that you can install Python (and reinstall it easily later, if necessary).\n",
    "  * Feel free to explore this webpage further; if you want to just continue the installation, you can terminate the tab browsing this webpage.\n",
    "   * Then the Python got installing in your PC .\n"
   ]
  },
  {
   "cell_type": "markdown",
   "metadata": {},
   "source": [
    "2 . What are Code Environments?Types?\n"
   ]
  },
  {
   "cell_type": "markdown",
   "metadata": {},
   "source": [
    "CODE ENVIRONMENT:\n",
    "\n",
    "* A code environment is a standalone and self-contained environment to run Python or R code.\n",
    "* Each code environment has its own set of packages. \n",
    "* Environments are independent: you can install different packages or different versions of packages in different environments \n",
    "without interaction between them.\n",
    "\n",
    "TYPES:\n",
    "    \n",
    "    * Pycharm\n",
    "    * Spyder\n",
    "    * IDLE\n",
    "    * Pydev"
   ]
  },
  {
   "cell_type": "code",
   "execution_count": null,
   "metadata": {},
   "outputs": [],
   "source": []
  }
 ],
 "metadata": {
  "kernelspec": {
   "display_name": "Python 3",
   "language": "python",
   "name": "python3"
  },
  "language_info": {
   "codemirror_mode": {
    "name": "ipython",
    "version": 3
   },
   "file_extension": ".py",
   "mimetype": "text/x-python",
   "name": "python",
   "nbconvert_exporter": "python",
   "pygments_lexer": "ipython3",
   "version": "3.7.6"
  }
 },
 "nbformat": 4,
 "nbformat_minor": 4
}
